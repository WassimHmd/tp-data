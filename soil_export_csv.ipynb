{
 "cells": [
  {
   "cell_type": "code",
   "execution_count": 24,
   "id": "a52548ab",
   "metadata": {},
   "outputs": [],
   "source": [
    "import csv, pyodbc, os\n",
    "\n",
    "# set up some constants\n",
    "MDB = './data/soil/HWSD2'\n",
    "OUT_DIR = r'./data/soil/HWSD2_csv'\n",
    "os.makedirs(OUT_DIR, exist_ok=True)\n",
    "\n",
    "conn_str = fr\"DRIVER={{Microsoft Access Driver (*.mdb, *.accdb)}};DBQ={MDB};\"\n",
    "# connect to db\n",
    "con = pyodbc.connect(conn_str)\n",
    "cur = con.cursor()"
   ]
  },
  {
   "cell_type": "code",
   "execution_count": 25,
   "id": "a838d980",
   "metadata": {},
   "outputs": [
    {
     "name": "stdout",
     "output_type": "stream",
     "text": [
      "D_ADD_PROP\n",
      "D_AWC\n",
      "D_COVERAGE\n",
      "D_DRAINAGE\n",
      "D_FAO90\n",
      "D_IL\n",
      "D_KOPPEN\n",
      "D_PHASE\n",
      "D_ROOT_DEPTH\n",
      "D_ROOTS\n",
      "D_SWR\n",
      "D_TEXTURE\n",
      "D_TEXTURE_SOTER\n",
      "D_TEXTURE_USDA\n",
      "D_WRB_PHASES\n",
      "D_WRB2\n",
      "D_WRB2code\n",
      "D_WRB4\n",
      "HWSD2_LAYERS\n",
      "HWSD2_LAYERS_METADATA\n",
      "HWSD2_SMU\n",
      "HWSD2_SMU_METADATA\n",
      "WRB_Class\n",
      "WRB_Layer\n",
      "WRB_Library\n"
     ]
    }
   ],
   "source": [
    "table_names = []\n",
    "for table_info in cur.tables(tableType='TABLE'):\n",
    "    print(table_info.table_name)\n",
    "    table_names.append(table_info.table_name)"
   ]
  },
  {
   "cell_type": "code",
   "execution_count": 26,
   "id": "d9f519c1",
   "metadata": {},
   "outputs": [
    {
     "name": "stdout",
     "output_type": "stream",
     "text": [
      "Exporting D_ADD_PROP...\n",
      "Exporting D_AWC...\n",
      "Exporting D_COVERAGE...\n",
      "Exporting D_DRAINAGE...\n",
      "Exporting D_FAO90...\n",
      "Exporting D_IL...\n",
      "Exporting D_KOPPEN...\n",
      "Exporting D_PHASE...\n",
      "Exporting D_ROOT_DEPTH...\n",
      "Exporting D_ROOTS...\n",
      "Exporting D_SWR...\n",
      "Exporting D_TEXTURE...\n",
      "Exporting D_TEXTURE_SOTER...\n",
      "Exporting D_TEXTURE_USDA...\n",
      "Exporting D_WRB_PHASES...\n",
      "Exporting D_WRB2...\n",
      "Exporting D_WRB2code...\n",
      "Exporting D_WRB4...\n",
      "Exporting HWSD2_LAYERS...\n",
      "Exporting HWSD2_LAYERS_METADATA...\n",
      "Exporting HWSD2_SMU...\n",
      "Exporting HWSD2_SMU_METADATA...\n",
      "Exporting WRB_Class...\n",
      "Exporting WRB_Layer...\n",
      "Exporting WRB_Library...\n"
     ]
    }
   ],
   "source": [
    "for table in table_names:\n",
    "    print(f\"Exporting {table}...\")\n",
    "\n",
    "    # query all rows\n",
    "    cur.execute(f\"SELECT * FROM {table}\")\n",
    "    rows = cur.fetchall()\n",
    "\n",
    "    # get column names\n",
    "    columns = [column[0] for column in cur.description]\n",
    "\n",
    "    # write CSV\n",
    "    csv_path = os.path.join(OUT_DIR, f\"{table}.csv\")\n",
    "    with open(csv_path, \"w\", newline=\"\", encoding=\"utf-8\") as f:\n",
    "        writer = csv.writer(f)\n",
    "        writer.writerow(columns)\n",
    "        writer.writerows(rows)\n"
   ]
  }
 ],
 "metadata": {
  "kernelspec": {
   "display_name": "Python 3",
   "language": "python",
   "name": "python3"
  },
  "language_info": {
   "codemirror_mode": {
    "name": "ipython",
    "version": 3
   },
   "file_extension": ".py",
   "mimetype": "text/x-python",
   "name": "python",
   "nbconvert_exporter": "python",
   "pygments_lexer": "ipython3",
   "version": "3.12.4"
  }
 },
 "nbformat": 4,
 "nbformat_minor": 5
}
